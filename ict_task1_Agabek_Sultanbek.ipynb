{
 "metadata": {
  "language_info": {
   "codemirror_mode": {
    "name": "ipython",
    "version": 3
   },
   "file_extension": ".py",
   "mimetype": "text/x-python",
   "name": "python",
   "nbconvert_exporter": "python",
   "pygments_lexer": "ipython3",
   "version": 3
  },
  "orig_nbformat": 2
 },
 "nbformat": 4,
 "nbformat_minor": 2,
 "cells": [
  {
   "cell_type": "code",
   "execution_count": null,
   "metadata": {},
   "outputs": [],
   "source": [
    "#exercise 1\n",
    "\n",
    "print(\"Agabek Sultanbek\")\n",
    "print(\"Abay, 98\")\n",
    "print(\"Almaty, 050430, Kazakhstan\")"
   ]
  },
  {
   "cell_type": "code",
   "execution_count": null,
   "metadata": {},
   "outputs": [],
   "source": [
    "#exercise 2\n",
    "\n",
    "print(\"Write your name, please\")\n",
    "name = input()\n",
    "print (\"Hello \"+ name)"
   ]
  },
  {
   "cell_type": "code",
   "execution_count": null,
   "metadata": {},
   "outputs": [],
   "source": [
    "#exercise 3\n",
    "\n",
    "a = float(input())\n",
    "b = float(input())\n",
    "c = a * b\n",
    "d = round(c,2)\n",
    "print(\"The area of the room is \" + str(d) + \" square feet\")\n",
    "\n"
   ]
  },
  {
   "cell_type": "code",
   "execution_count": null,
   "metadata": {},
   "outputs": [],
   "source": [
    "#exercise 4\n",
    "\n",
    "a = float(input())\n",
    "b = float(input())\n",
    "c = a * b / 43560\n",
    "d = round(c,2)\n",
    "print(\"The area of the field is \" + str(d) + \" acres\")\n",
    "\n"
   ]
  },
  {
   "cell_type": "code",
   "execution_count": null,
   "metadata": {},
   "outputs": [],
   "source": [
    "#exercise 5\n",
    "\n",
    "a = int(input())\n",
    "b = int(input())\n",
    "c = 0.10 * a + 0.25 * b\n",
    "print(f'{c:.2f}',\"$\")\n",
    "\n"
   ]
  },
  {
   "cell_type": "code",
   "execution_count": null,
   "metadata": {},
   "outputs": [],
   "source": [
    "#exercise 6\n",
    "\n",
    "a = int(input())\n",
    "tax = float(a/10)\n",
    "tip = float(a*0.18)\n",
    "overall = a + tax + tip\n",
    "print(\"Tax:\",f'{tax:.2f}')\n",
    "print(\"Tip:\",f'{tip:.2f}')\n",
    "print(\"Overall:\",f'{overall:.2f}')"
   ]
  },
  {
   "cell_type": "code",
   "execution_count": null,
   "metadata": {},
   "outputs": [],
   "source": [
    "#exercise 7\n",
    "\n",
    "n = int(input())\n",
    "sum = 0;\n",
    "for x in range(1, n + 1):\n",
    "    sum += x\n",
    "print(sum)\n",
    "\n"
   ]
  },
  {
   "cell_type": "code",
   "execution_count": null,
   "metadata": {},
   "outputs": [],
   "source": [
    "#exercise 8\n",
    "\n",
    "widgets = float(input(\"Enter the number of widgets:\\n\"))\n",
    "gizmos = float(input(\"Enter the number of gizmos:\\n\"))\n",
    "totalWeight = widgets * 75 + gizmos * 112\n",
    "print(\"The total weight is \" + str(int(totalWeight)) + \" grams.\")"
   ]
  },
  {
   "cell_type": "code",
   "execution_count": null,
   "metadata": {},
   "outputs": [],
   "source": [
    "#exercise 9\n",
    "\n",
    "balance = int(input())\n",
    "\n",
    "print(\"Balance after 1 year\",f'{balance * 1.04:.2f}')\n",
    "print(\"Balance after 2 yaer\",f'{balance * (1.04**2):.2f}')\n",
    "print(\"Balance after 3 year\",f'{balance * (1.04**3):.2f}')\n"
   ]
  },
  {
   "cell_type": "code",
   "execution_count": null,
   "metadata": {},
   "outputs": [],
   "source": [
    "#exercise 10\n",
    "\n",
    "import math\n",
    "\n",
    "a = int(input(\"Enter first number: \"))\n",
    "b = int(input(\"Enter second number: \"))\n",
    "#calculate print sum\n",
    "print(a, \"+\", b, \"=\", a + b)\n",
    "#calculate printing difference\n",
    "print(a,\"-\",b,\"=\",a-b)\n",
    "#calculate and printing product\n",
    "print(a,\"*\",b,\"=\",a*b)\n",
    "#calculate and printing quotient\n",
    "print(a,\"/\",b,\"=\",a/b)\n",
    "#calculate and printing remainder\n",
    "print(a,\"%\",b,\"=\",a%b)\n",
    "#calculate and printing log10a\n",
    "print (\"math.log10(a) : \", math.log10(a))\n",
    "#calculate and printing log10ab\n",
    "print (\"math.log10(ab) : \", math.log10(a)+ math.log10(b))\n"
   ]
  },
  {
   "cell_type": "code",
   "execution_count": null,
   "metadata": {},
   "outputs": [],
   "source": [
    "#exercise 11\n",
    "\n",
    "usa = float(input(\"Enter the number of miles per gallon:\\n\"))\n",
    "conversion = 235.2145833 / usa\n",
    "print(str(int(usa)) + \" miles per gallon is equal to \" + str(conversion) + \" liters per 100 kilometers.\")\n",
    "\n"
   ]
  },
  {
   "cell_type": "code",
   "execution_count": null,
   "metadata": {},
   "outputs": [],
   "source": [
    "#exercise 12\n",
    "\n",
    "import math\n",
    "\n",
    "t1 = float(input(\"Enter the latitude of the first point:\\n\"))\n",
    "g1 = float(input(\"Enter the longitude of the first point:\\n\"))\n",
    "t2 = float(input(\"Enter the latitude of the second point:\\n\"))\n",
    "g2 = float(input(\"Enter the longitude of the second point:\\n\"))\n",
    "distance = 3958.762079 * math.arccos(math.sin(t1) * math.sin(t2) + math.cos(t1) * math.cos(t2) * math.cos(g1 - g2))\n",
    "print(\"The distance between (\" + str(t1) + \", \" + str(g1) + \") and (\" + str(t2) + \", \" + str(g2) + \") is \" + str(distance) + \" miles.\""
   ]
  },
  {
   "cell_type": "code",
   "execution_count": null,
   "metadata": {},
   "outputs": [],
   "source": [
    "#exercise 13\n",
    "\n",
    "my_money = int(input())\n",
    "coins = {'Toonies': 200, 'Loonies': 100, 'Quarter': 25,\n",
    "         'Dime': 10, 'Nickel': 5, 'Penny': 1}\n",
    "for m in coins:\n",
    "    print('Number of', m + ':', my_money // coins[m])\n",
    "    my_money %= coins[m]"
   ]
  },
  {
   "cell_type": "code",
   "execution_count": null,
   "metadata": {},
   "outputs": [],
   "source": [
    "#exercise 14\n",
    "\n",
    "print(\"write your height: \")\n",
    "h_f = int(input(\"Feet: \"))\n",
    "h_i = int(input(\"Inches: \"))\n",
    "h_i += h_f * 12\n",
    "h_cm = round(h_i* 2.54, 1)\n",
    "\n",
    "print(\"Your height is : %d cm.\" % h_cm)"
   ]
  },
  {
   "cell_type": "code",
   "execution_count": null,
   "metadata": {},
   "outputs": [],
   "source": [
    "#exercise 15\n",
    "\n",
    "#constants\n",
    "#imports\n",
    "#inputs\n",
    "\n",
    "feet = int(input(\"Enter the distance in feet: \"))\n",
    "#computations\n",
    "inches = feet * 12\n",
    "yards = feet / 3\n",
    "miles = feet / 5280\n",
    "\n",
    "#outputs\n",
    "\n",
    "print()\n",
    "print(\"Inches: \", inches)\n",
    "print(\"Yards: \", yards)\n",
    "print(\"Miles: \", miles)\n"
   ]
  },
  {
   "cell_type": "code",
   "execution_count": null,
   "metadata": {},
   "outputs": [],
   "source": [
    "#exercise 16\n",
    "\n",
    "r = int(input())\n",
    "from math import pi\n",
    "print(f'Area of circle: {pi*r*r}, volume of sphere: {(4*pi*r**3)/3}')"
   ]
  },
  {
   "cell_type": "code",
   "execution_count": null,
   "metadata": {},
   "outputs": [],
   "source": [
    "#exercise 17\n",
    "\n",
    "m = float(input(\"Enter the number of grams of water:\\n\"))\n",
    "t = float(input(\"Enter the desired temperature change in Celsius:\\n\"))\n",
    "C = 4.186\n",
    "#A kilowatt hour is 3600000 joules.\n",
    "#A kilowatt hour costs 8.9 cents.\n",
    "q = m * t * C\n",
    "k = q / 3600000\n",
    "costk = 0.089 * k\n",
    "print(\"You will ned \" + str(round(q)) + \" joules to heat \" + str(round(m)) + \" grams of water \" + str(round(t)) + \" degrees Celsius.\\nThis will cost you $\" + str(round(costk, 2)) + \".\")\n",
    "\n"
   ]
  },
  {
   "cell_type": "code",
   "execution_count": null,
   "metadata": {},
   "outputs": [],
   "source": [
    "#exercise 18\n",
    "\n",
    "pi=22/7\n",
    "height = float(input('Height of cylinder: '))\n",
    "radian = float(input('Radius of cylinder: '))\n",
    "volume = pi * radian * radian * height\n",
    "sur_area = ((2*pi*radian) * height) + ((pi*radian**2)*2)\n",
    "print(\"Volume is: \", volume)\n",
    "print(\"Surface Area is: \", sur_area)"
   ]
  },
  {
   "cell_type": "code",
   "execution_count": null,
   "metadata": {},
   "outputs": [],
   "source": [
    "#exercise 19\n",
    "\n",
    "import math\n",
    "A = 9.81\n",
    "d = float(input(\"Enter the height in meters:\\n\"))\n",
    "f = math.sqrt(2 * A * d)\n",
    "print(\"The final velocity at which the object is travelling is \" + str(f) + \" meters per second.\")\n"
   ]
  },
  {
   "cell_type": "code",
   "execution_count": null,
   "metadata": {},
   "outputs": [],
   "source": [
    "#exercise 20\n",
    "\n",
    "p = float(input(\"Enter the pressure in pascals:\\n\"))\n",
    "v = float(input(\"Enter the volume in liters:\\n\"))\n",
    "choice = input(\"Choose Fahrenheit, Celsius, or Kelvin (F / C / K):\\n\")\n",
    "if choice.lower() == \"f\":\n",
    "  temp = float(input(\"Enter the temperature:\\n\"))\n",
    "  kelvin = (temp - 32) * 5 / 9 + 273.15\n",
    "  n = p * v / 8.314 / kelvin\n",
    "  print(\"There are \" + str(n) + \" moles of gas.\")\n",
    "elif choice.lower() == \"c\":\n",
    "  temp = float(input(\"Enter the temperature:\\n\"))\n",
    "  kelvin = temp + 273.15\n",
    "  n = p * v / 8.314 / kelvin\n",
    "  print(\"There are \" + str(n) + \" moles of gas.\")\n",
    "elif choice.lower() == \"k\":\n",
    "  kelvin = float(input(\"Enter the temperature:\\n\"))\n",
    "  n = p * v / 8.314 / kelvin\n",
    "  print(\"There are \" + str(n) + \" moles of gas.\")"
   ]
  },
  {
   "cell_type": "code",
   "execution_count": null,
   "metadata": {},
   "outputs": [],
   "source": [
    "#exercise 21\n",
    "\n",
    "a = 5\n",
    "b = 6\n",
    "c = 7\n",
    "\n",
    "# calculate the semi-perimeter\n",
    "s = (a + b + c) / 2\n",
    "\n",
    "# calculate the area\n",
    "area = (s*(s-a)*(s-b)*(s-c)) ** 0.5\n",
    "print('The area of the triangle is %0.2f' %area)\n"
   ]
  },
  {
   "cell_type": "code",
   "execution_count": null,
   "metadata": {},
   "outputs": [],
   "source": [
    "#exercise 22\n",
    "\n",
    "import math\n",
    "s1 = float(input())\n",
    "s2 = float(input())\n",
    "s3 = float(input())\n",
    "s = (s1+s2+s3)/2\n",
    "area = math.sqrt(s*(s-s1)*(s-s2)*(s-s3))\n",
    "print(f'{area:.2f}',\"m^2\")"
   ]
  },
  {
   "cell_type": "code",
   "execution_count": null,
   "metadata": {},
   "outputs": [],
   "source": [
    "#exercise 23\n",
    "\n",
    "from math import tan, pi\n",
    "n = float(input(\"Enter the side length:\\n\"))\n",
    "s = float(input(\"Enter the number of sides:\\n\"))\n",
    "area = (n * s ** 2) / (4 * tan(pi / n))\n",
    "print(\"The area is \" + str(area) + \" square units.\\n\")\n"
   ]
  },
  {
   "cell_type": "code",
   "execution_count": null,
   "metadata": {},
   "outputs": [],
   "source": [
    "#exercise 24\n",
    "\n",
    "days = int(input(\"Input days: \")) * 3600 * 24\n",
    "hours = int(input(\"Input hours: \")) * 3600\n",
    "minutes = int(input(\"Input minutes: \")) * 60\n",
    "seconds = int(input(\"Input seconds: \"))\n",
    "\n",
    "time = days + hours + minutes + seconds\n",
    "\n",
    "print(\"The  amounts of seconds\", time)\n"
   ]
  },
  {
   "cell_type": "code",
   "execution_count": null,
   "metadata": {},
   "outputs": [],
   "source": [
    "#exercise 25\n",
    "\n",
    "time = float(input(\"Input time in seconds: \"))\n",
    "day = time // (24 * 3600)\n",
    "time = time % (24 * 3600)\n",
    "hour = time // 3600\n",
    "time %= 3600\n",
    "minutes = time // 60\n",
    "time %= 60\n",
    "seconds = time\n",
    "print(\"d:h:m:s-> %d:%d:%d:%d\" % (day, hour, minutes, seconds))\n"
   ]
  },
  {
   "cell_type": "code",
   "execution_count": null,
   "metadata": {},
   "outputs": [],
   "source": [
    "#exercise 26\n",
    "\n",
    "import datetime\n",
    "print((datetime.date.today() + datetime.timedelta(6*365/12)).isoformat())"
   ]
  },
  {
   "cell_type": "code",
   "execution_count": null,
   "metadata": {},
   "outputs": [],
   "source": [
    "#exercise 27\n",
    "\n",
    "h = float(input())\n",
    "w = float(input())\n",
    "BMI = float(w/(h**2))\n",
    "print(f'{BMI:.3f}',\"kg/m^2\")"
   ]
  },
  {
   "cell_type": "code",
   "execution_count": null,
   "metadata": {},
   "outputs": [],
   "source": [
    "#exercise 28\n",
    "\n",
    "Ta = float(input())\n",
    "V = float(input())\n",
    "WCI = 13.12 + 0.6215 * Ta - 11.37 * (V**(0.16)) + 0.3965 * Ta * (V**(0.16))\n",
    "print(round(WCI))"
   ]
  },
  {
   "cell_type": "code",
   "execution_count": null,
   "metadata": {},
   "outputs": [],
   "source": [
    "#exercise 29\n",
    "\n",
    "n = int(input())\n",
    "print(n + 273.15,\"Kelvin\")\n",
    "print((n * 1.8) + 32, \"Fahrenheit\")"
   ]
  },
  {
   "cell_type": "code",
   "execution_count": null,
   "metadata": {},
   "outputs": [],
   "source": [
    "#exercise 30\n",
    "\n",
    "kilopascals = float(input(\"Enter the number of kilopascals:\\n\"))\n",
    "psi = kilopascals *  0.14503773801\n",
    "mom = kilopascals * 7.500615613\n",
    "atmospheres = kilopascals * 0.0098692316931\n",
    "print(\"%d kilopascals is equal to %d PSI, %d millimeters of mercury, and %d atmospheres.\" % (kilopascals, psi, mom, atmospheres))"
   ]
  },
  {
   "cell_type": "code",
   "execution_count": null,
   "metadata": {},
   "outputs": [],
   "source": [
    "#exercise 31\n",
    "\n",
    "a=int(input())\n",
    "def sum(x):\n",
    "    s=0\n",
    "    while (x>0):\n",
    "        r=x%10\n",
    "        s=s+r\n",
    "        x=x//10\n",
    "    print(\"The total sum of digits is:\",s)\n",
    "sum(a)"
   ]
  },
  {
   "cell_type": "code",
   "execution_count": null,
   "metadata": {},
   "outputs": [],
   "source": [
    "#exercise 32\n",
    "\n",
    "NUM1 = int(input(\"Enter the first number:\\n\"))\n",
    "NUM2 = int(input(\"Enter the second numer:\\n\"))\n",
    "NUM3 = int(input(\"Enter the third number:\\n\"))\n",
    "set123 = (NUM1, NUM2, NUM3)\n",
    "set321 = (min(set123), NUM1 + NUM2 + NUM3 - min(set123) - max(set123), max(set123))\n",
    "print(str(set321))"
   ]
  },
  {
   "cell_type": "code",
   "execution_count": null,
   "metadata": {},
   "outputs": [],
   "source": [
    "#exercise 33\n",
    "\n",
    "a = int(input())\n",
    "print(\"Loaves Discount\")\n",
    "r=185*a\n",
    "d=0.6*185*a\n",
    "a=0.4*185*a\n",
    "print(\"Regular Price \" + str(r))\n",
    "print(\"Total Discount \"+ str(d))\n",
    "print(\"Total Amount to be paid \" + str(a))"
   ]
  },
  {
   "cell_type": "code",
   "execution_count": null,
   "metadata": {},
   "outputs": [],
   "source": []
  }
 ]
}