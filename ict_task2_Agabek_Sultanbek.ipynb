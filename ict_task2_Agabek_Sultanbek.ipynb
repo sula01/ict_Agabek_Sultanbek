{
 "metadata": {
  "language_info": {
   "codemirror_mode": {
    "name": "ipython",
    "version": 3
   },
   "file_extension": ".py",
   "mimetype": "text/x-python",
   "name": "python",
   "nbconvert_exporter": "python",
   "pygments_lexer": "ipython3",
   "version": 3
  },
  "orig_nbformat": 2
 },
 "nbformat": 4,
 "nbformat_minor": 2,
 "cells": [
  {
   "cell_type": "code",
   "execution_count": null,
   "metadata": {},
   "outputs": [],
   "source": [
    "#exercise 1\n",
    "\n",
    "x1 = int(input())\n",
    "y1 = int(input())\n",
    "x2 = int(input())\n",
    "y2 = int(input())\n",
    "if x1 == x2 or y1 == y2:\n",
    "    print('YES')\n",
    "else:\n",
    "    print('NO')"
   ]
  },
  {
   "cell_type": "code",
   "execution_count": null,
   "metadata": {},
   "outputs": [],
   "source": [
    "#exercise 2\n",
    "\n",
    "x1 = int(input())\n",
    "y1 = int(input())\n",
    "x2 = int(input())\n",
    "y2 = int(input())\n",
    "if x1 == x2 - 1 and y1 == y2 - 1:\n",
    "    print ('YES')\n",
    "else:\n",
    "    print ('NO')"
   ]
  },
  {
   "cell_type": "code",
   "execution_count": null,
   "metadata": {},
   "outputs": [],
   "source": [
    "#exercise 3\n",
    "\n",
    "x1 = int(input())\n",
    "y1 = int(input())\n",
    "x2 = int(input())\n",
    "y2 = int(input())\n",
    "if abs(x1 - x2) == abs(y1 - y2):\n",
    "    print('YES')\n",
    "else:\n",
    "    print('NO')"
   ]
  },
  {
   "cell_type": "code",
   "execution_count": null,
   "metadata": {},
   "outputs": [],
   "source": [
    "#exercise 4\n",
    "\n",
    "x1 = int(input())\n",
    "y1 = int(input())\n",
    "x2 = int(input())\n",
    "y2 = int(input())\n",
    "if abs(x1 - x2) == abs(y1 - y2) or x1 == x2 or y1 == y2:\n",
    "    print('YES')\n",
    "else:\n",
    "    print('NO')"
   ]
  },
  {
   "cell_type": "code",
   "execution_count": null,
   "metadata": {},
   "outputs": [],
   "source": [
    "#exercise 5\n",
    "\n",
    "x1 = int(input())\n",
    "y1 = int(input())\n",
    "x2 = int(input())\n",
    "y2 = int(input())\n",
    "dx = abs(x1 - x2)\n",
    "dy = abs(y1 - y2)\n",
    "if dx == 1 and dy == 2 or dx == 2 and dy == 1:\n",
    "    print('YES')\n",
    "else:\n",
    "    print('NO')"
   ]
  },
  {
   "cell_type": "code",
   "execution_count": null,
   "metadata": {},
   "outputs": [],
   "source": [
    "#exercise 6\n",
    "\n",
    "n = int(input())\n",
    "m = int(input())\n",
    "k = int(input())\n",
    "if k < n * m and ((k % n == 0) or (k % m == 0)):\n",
    "    print('YES')\n",
    "else:\n",
    "    print('NO')"
   ]
  },
  {
   "cell_type": "code",
   "execution_count": null,
   "metadata": {},
   "outputs": [],
   "source": [
    "#exercise 7\n",
    "\n",
    "n = int(input())\n",
    "m = int(input())\n",
    "x = int(input())\n",
    "y = int(input())\n",
    "# n, m = min(n, m), max(n, m)\n",
    "if n > m:\n",
    "    n, m = m, n\n",
    "if x >= n / 2:\n",
    "    x = n - x\n",
    "if y >= m / 2:\n",
    "    y = m - y\n",
    "# print(min(x, y))\n",
    "if x < y:\n",
    "    print(x)\n",
    "else:\n",
    "    print(y)"
   ]
  },
  {
   "cell_type": "code",
   "execution_count": null,
   "metadata": {},
   "outputs": [],
   "source": [
    "#exercise 8\n",
    "\n",
    "a = int(input())\n",
    "b = int(input())\n",
    "c = int(input())\n",
    "if a > b:\n",
    "    a, b = b, a\n",
    "if b > c:\n",
    "    b, c = c, b\n",
    "if a > b:\n",
    "    a, b = b, a\n",
    "print(a, b, c)"
   ]
  },
  {
   "cell_type": "code",
   "execution_count": null,
   "metadata": {},
   "outputs": [],
   "source": [
    "#exercise 9\n",
    "\n",
    "A1 = int(input())  # Box 1\n",
    "B1 = int(input())\n",
    "C1 = int(input())\n",
    "A2 = int(input())  # Box 2\n",
    "B2 = int(input())\n",
    "C2 = int(input())\n",
    "if ((A1 == A2 and B1 == B2 and C1 == C2) or\n",
    "        (A1 == A2 and B1 == C2 and C1 == B2) or\n",
    "        (A1 == C2 and B1 == A2 and C1 == B2) or\n",
    "        (A1 == B2 and B1 == A2 and C1 == C2) or\n",
    "        (A1 == B2 and B1 == C2 and C1 == A2) or\n",
    "        (A1 == C2 and B1 == B2 and C1 == A2)):\n",
    "    print('Boxes are equal')\n",
    "elif ((A1 <= A2 and B1 <= B2 and C1 <= C2) or\n",
    "        (A1 <= A2 and B1 <= C2 and C1 <= B2) or\n",
    "        (A1 <= C2 and B1 <= A2 and C1 <= B2) or\n",
    "        (A1 <= B2 and B1 <= A2 and C1 <= C2) or\n",
    "        (A1 <= B2 and B1 <= C2 and C1 <= A2) or\n",
    "        (A1 <= C2 and B1 <= B2 and C1 <= A2)):\n",
    "    print('The first box is smaller than the second one')\n",
    "elif ((A1 >= A2 and B1 >= B2 and C1 >= C2) or\n",
    "        (A1 >= A2 and B1 >= C2 and C1 >= B2) or\n",
    "        (A1 >= C2 and B1 >= A2 and C1 >= B2) or\n",
    "        (A1 >= B2 and B1 >= A2 and C1 >= C2) or\n",
    "        (A1 >= B2 and B1 >= C2 and C1 >= A2) or\n",
    "        (A1 >= C2 and B1 >= B2 and C1 >= A2)):\n",
    "    print('The first box is larger than the second one')\n",
    "else:\n",
    "    print('Boxes are incomparable')"
   ]
  },
  {
   "cell_type": "code",
   "execution_count": null,
   "metadata": {},
   "outputs": [],
   "source": [
    "#exercise 10\n",
    "\n",
    "n = int(input())\n",
    "i = 1\n",
    "while i ** 2 <= n:\n",
    "    print(i ** 2)\n",
    "    i += 1  "
   ]
  },
  {
   "cell_type": "code",
   "execution_count": null,
   "metadata": {},
   "outputs": [],
   "source": [
    "#exercise 11\n",
    "\n",
    "n = int(input())\n",
    "i = 2\n",
    "while n % i != 0:\n",
    "    i += 1\n",
    "print(i)"
   ]
  },
  {
   "cell_type": "code",
   "execution_count": null,
   "metadata": {},
   "outputs": [],
   "source": []
  },
  {
   "cell_type": "code",
   "execution_count": null,
   "metadata": {},
   "outputs": [],
   "source": [
    "#exercise 12\n",
    "\n",
    "n = int(input())\n",
    "i = 2\n",
    "nn = 1\n",
    "while i <= n:\n",
    "    i *= 2\n",
    "nn += 1\n",
    "print(nn - 1, i // 2)"
   ]
  },
  {
   "cell_type": "code",
   "execution_count": null,
   "metadata": {},
   "outputs": [],
   "source": [
    "#exercise 13\n",
    "\n",
    "sum = 0\n",
    "len = 0\n",
    "element = int(input())\n",
    "while element != 0:\n",
    "    sum += element\n",
    "    len += 1\n",
    "    element = int(input())\n",
    "print(sum / len)"
   ]
  },
  {
   "cell_type": "code",
   "execution_count": null,
   "metadata": {},
   "outputs": [],
   "source": [
    "#exercise 14\n",
    "\n",
    "maximum = 0\n",
    "num_maximal = 0\n",
    "element = -1\n",
    "while element != 0:\n",
    "    element = int(input())\n",
    "    if element > maximum:\n",
    "        maximum, num_maximal = element, 1\n",
    "    elif element == maximum:\n",
    "        num_maximal += 1       \n",
    "print(num_maximal)"
   ]
  },
  {
   "cell_type": "code",
   "execution_count": null,
   "metadata": {},
   "outputs": [],
   "source": [
    "#exercise 15\n",
    "\n",
    "n = int(input())\n",
    "if n == 0:\n",
    "    print(0)\n",
    "else:\n",
    "    a, b = 0, 1\n",
    "    for i in range(2, n + 1):\n",
    "        a, b = b, a + b\n",
    "    print(b)"
   ]
  },
  {
   "cell_type": "code",
   "execution_count": null,
   "metadata": {},
   "outputs": [],
   "source": []
  },
  {
   "cell_type": "code",
   "execution_count": null,
   "metadata": {},
   "outputs": [],
   "source": []
  },
  {
   "cell_type": "code",
   "execution_count": null,
   "metadata": {},
   "outputs": [],
   "source": [
    "#exercise 18\n",
    "\n",
    "a = input().split()\n",
    "print(a[len(a)-1])\n",
    "for i in range(0,len(a)-1):\n",
    "    print(a[i])"
   ]
  },
  {
   "cell_type": "code",
   "execution_count": null,
   "metadata": {},
   "outputs": [],
   "source": [
    "#exercise 19\n",
    "\n",
    "a = [int(s) for s in input().split()]\n",
    "counter = 0\n",
    "for i in range(len(a)):\n",
    "    for j in range(i + 1, len(a)):\n",
    "        if a[i] == a[j]:\n",
    "            counter += 1\n",
    "print(counter)"
   ]
  }
 ]
}